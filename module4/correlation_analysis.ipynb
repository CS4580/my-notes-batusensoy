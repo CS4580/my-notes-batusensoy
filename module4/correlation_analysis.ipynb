{
 "cells": [
  {
   "cell_type": "markdown",
   "metadata": {},
   "source": [
    "## Correlation Analysis\n",
    "- What is correlation Analysis?\n",
    "- How does correlation analysis help with data cleaning?\n",
    "- Coding Example"
   ]
  },
  {
   "cell_type": "markdown",
   "metadata": {},
   "source": [
    "## Correlation Analysis\n",
    "Is a statistical technique used to examine the strength and direction of the relationship\n",
    "between two or more variables.\n",
    "\n",
    "Analyze the degree to which changes from one variable are associated wih changes from another variable."
   ]
  },
  {
   "cell_type": "markdown",
   "metadata": {},
   "source": [
    "### How to do it?\n",
    "Use `Correlation Coefficients`, which is a measurement of thr strength and the direction of the relationship between the two variables\n",
    "$$\n",
    "\\{Y,X\\}\n",
    "$$"
   ]
  },
  {
   "cell_type": "markdown",
   "metadata": {},
   "source": [
    "### Popular Correlation Coefficients\n",
    "\n",
    "### Pearson \n",
    "- Use for continuous data\n",
    "- Measures the strength of the linear relationship between the variables\n",
    "- Sensitive to outliers\n",
    "\n",
    "### Spearman\n",
    "- Use for ordinal or ranked data\n",
    "- Measures the strength of thr `monotonic relationship` between the variables, which can be linear or non-linear\n",
    "- More robust towards outliers"
   ]
  },
  {
   "cell_type": "markdown",
   "metadata": {},
   "source": [
    "Correlation analysis can identify variables that are highly correlated to each other.\n",
    "\n",
    "The analysis may indicate if one variable is `redundant` and can be eliminated"
   ]
  },
  {
   "cell_type": "markdown",
   "metadata": {},
   "source": [
    "### Dealing with Categorical Data\n",
    "- Data has many `non-numeric` features. You CAN NOT feed them to a learning model. They need to be converted.\n",
    "- Use the `pd.dtypes()` to see the data types\n",
    "\n",
    "### Two main types\n",
    "- Label encoding\n",
    "- One-hot encoding\n"
   ]
  },
  {
   "cell_type": "markdown",
   "metadata": {},
   "source": [
    "### Label Encoding\n",
    "Each `unique` category in the categorical variable is assigned a numerical label. Typically starting at 0, 1, etc"
   ]
  },
  {
   "cell_type": "markdown",
   "metadata": {},
   "source": [
    "### One-hot Encoding\n",
    "A new binary feature is created `for each` category, and the value of that feature is set to 1 if the observation belongs to that."
   ]
  }
 ],
 "metadata": {
  "language_info": {
   "name": "python"
  }
 },
 "nbformat": 4,
 "nbformat_minor": 2
}
