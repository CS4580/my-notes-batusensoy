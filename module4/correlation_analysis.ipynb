{
 "cells": [
  {
   "cell_type": "markdown",
   "metadata": {},
   "source": [
    "## Correlation Analysis\n",
    "- What is correlation Analysis?\n",
    "- How does correlation analysis help with data cleaning?\n",
    "- Coding Example"
   ]
  },
  {
   "cell_type": "markdown",
   "metadata": {},
   "source": [
    "## Correlation Analysis\n",
    "Is a statistical technique used to examine the strength and direction of the relationship\n",
    "between two or more variables.\n",
    "\n",
    "Analyze the degree to which changes from one variable are associated wih changes from another variable."
   ]
  },
  {
   "cell_type": "markdown",
   "metadata": {},
   "source": [
    "### How to do it?\n",
    "Use `Correlation Coefficients`, which is a measurement of thr strength and the direction of the relationship between the two variables\n",
    "$$\n",
    "\\{Y,X\\}\n",
    "$$"
   ]
  },
  {
   "cell_type": "markdown",
   "metadata": {},
   "source": [
    "### Popular Correlation Coefficients\n",
    "\n",
    "### Pearson \n",
    "- Use for continuous data\n",
    "- Measures the strength of the linear relationship between the variables\n",
    "- Sensitive to outliers\n",
    "\n",
    "### Spearman\n",
    "- Use for ordinal or ranked data\n",
    "- Measures the strength of thr `monotonic relationship` between the variables, which can be linear or non-linear\n",
    "- More robust towards outliers"
   ]
  },
  {
   "cell_type": "markdown",
   "metadata": {},
   "source": [
    "Correlation analysis can identify variables that are highly correlated to each other.\n",
    "\n",
    "The analysis may indicate if one variable is `redundant` and can be eliminated"
   ]
  },
  {
   "cell_type": "markdown",
   "metadata": {},
   "source": [
    "### Dealing with Categorical Data\n",
    "- Data has many `non-numeric` features. You CAN NOT feed them to a learning model. They need to be converted.\n",
    "- Use the `pd.dtypes()` to see the data types\n",
    "\n",
    "### Two main types\n",
    "- Label encoding\n",
    "- One-hot encoding\n"
   ]
  },
  {
   "cell_type": "markdown",
   "metadata": {},
   "source": [
    "### Label Encoding\n",
    "Each `unique` category in the categorical variable is assigned a numerical label. Typically starting at 0, 1, etc"
   ]
  },
  {
   "cell_type": "markdown",
   "metadata": {},
   "source": [
    "### One-hot Encoding\n",
    "A new binary feature is created `for each` category, and the value of that feature is set to 1 if the observation belongs to that."
   ]
  },
  {
   "cell_type": "markdown",
   "metadata": {},
   "source": [
    "## Dealing with Categorical Data"
   ]
  },
  {
   "cell_type": "code",
   "execution_count": null,
   "metadata": {},
   "outputs": [],
   "source": [
    "import pandas as pd\n",
    "# Load dataset\n",
    "# Use the hotel_bookings_wip.csv from module3/my_notes.ipynb\n",
    "data_df = pd.read_csv('../data/hotels_booking_wip.csv')\n",
    "data_df.head()"
   ]
  },
  {
   "cell_type": "code",
   "execution_count": null,
   "metadata": {},
   "outputs": [],
   "source": [
    "# See dataset dtypes\n",
    "#data_df.dtypes\n",
    "\n",
    "# Task: Create a list of those columns/features that are of type 'object'\n",
    "# Using a list comprehension with oredicate\n",
    "cat_cols = [col for col in data_df.columns if data_df[col].dtype == 'object']\n",
    "cat_cols"
   ]
  },
  {
   "cell_type": "code",
   "execution_count": null,
   "metadata": {},
   "outputs": [],
   "source": [
    "# Create a new DataFrame from only those columns\n",
    "cat_df = data_df[cat_cols]\n",
    "cat_df.head()"
   ]
  },
  {
   "cell_type": "code",
   "execution_count": null,
   "metadata": {},
   "outputs": [],
   "source": [
    "# Task: Print unique values of each feature in cat_df\n",
    "for col in cat_df.columns:\n",
    "    print(f'{col}: \\n{cat_df[col].unique()}')"
   ]
  },
  {
   "cell_type": "code",
   "execution_count": null,
   "metadata": {},
   "outputs": [],
   "source": [
    "# Task: Cast the categorical features to the category data type for 'arrival_date_month'\n",
    "# January -> 1, February -> 2, etc.\n",
    "month_map = {'January': 1, 'February': 2, 'March': 3, 'April': 4, 'May': 5, 'June': 6, 'July': 7, 'August': 8, 'September': 9, 'October': 10, 'November': 11, 'December': 12}\n",
    "\n",
    "# One/Old approach\n",
    "#cat_df['arrival_date_month'] = cat_df['arrival_date_month'].map(month_map)\n",
    "\n",
    "#Another/Newer approach\n",
    "cat_df.loc[:,'arrival_date_month'] = cat_df['arrival_date_month'].map(month_map)\n"
   ]
  },
  {
   "cell_type": "code",
   "execution_count": 1,
   "metadata": {},
   "outputs": [],
   "source": [
    "# Now di the country hotel feature\n",
    "# Use label encoding from sklearn: conda install scikit-learn\n",
    "from sklearn.preprocessing import LabelEncoder\n",
    "\n",
    "le = LabelEncoder()     # create an object of type LabelEncoder"
   ]
  },
  {
   "cell_type": "code",
   "execution_count": null,
   "metadata": {},
   "outputs": [],
   "source": [
    "# Encode country feature\n",
    "# cat_df['country'] = le.fit_transform(cat_df['country']) # this gives you a warning\n",
    "cat_df.loc[:,'country'] = le.fit_transform(cat_df['country']) # new way with.loc\n",
    "cat_df.head()"
   ]
  },
  {
   "cell_type": "markdown",
   "metadata": {},
   "source": [
    "### One_Hot Encoding"
   ]
  },
  {
   "cell_type": "code",
   "execution_count": null,
   "metadata": {},
   "outputs": [],
   "source": [
    "# print all your categories\n",
    "cat_df.columns"
   ]
  },
  {
   "cell_type": "code",
   "execution_count": null,
   "metadata": {},
   "outputs": [],
   "source": [
    "# One-hot encoding for ALL features as one, except: 'arrival_date_month' and 'country'\n",
    "processed_cols = ['arrival_date_month', 'country']\n",
    "# Create a new list of columns to be converted\n",
    "one_hot_cols = [col for col in cat_df.columns if col not in processed_cols]\n",
    "dummy_df = pd.get_dummies(data=cat_df, columns=one_hot_cols)\n",
    "\n",
    "dummy_df.head()\n",
    "# NOTE: TODO: Fix, 'reservation_status_date' feature"
   ]
  },
  {
   "cell_type": "code",
   "execution_count": null,
   "metadata": {},
   "outputs": [],
   "source": [
    "# Merge back to the cat_df\n",
    "cat_df = pd.concat([cat_df, dummy_df], axis=1)\n",
    "cat_df.head()"
   ]
  },
  {
   "cell_type": "code",
   "execution_count": null,
   "metadata": {},
   "outputs": [],
   "source": [
    "# Drop the original 'object' columns\n",
    "num_df = data_df.drop(columns=cat_cols, axis=1)\n",
    "num_df.head()"
   ]
  },
  {
   "cell_type": "code",
   "execution_count": null,
   "metadata": {},
   "outputs": [],
   "source": [
    "# Now, create your final df\n",
    "final_df = pd.concat([num_df, cat_df], axis=1)\n",
    "final_df.head()"
   ]
  },
  {
   "cell_type": "code",
   "execution_count": null,
   "metadata": {},
   "outputs": [],
   "source": [
    "# Save it as a new file\n",
    "final_df.to_csv('../data/hotel_booking_new.csv', index=False)"
   ]
  },
  {
   "cell_type": "markdown",
   "metadata": {},
   "source": [
    "## Correlation Analysis"
   ]
  },
  {
   "cell_type": "code",
   "execution_count": null,
   "metadata": {},
   "outputs": [],
   "source": [
    "# Create a correlation matrix\n",
    "corr_matrix = final_df.corr(numeric_only=True)\n",
    "corr_matrix"
   ]
  },
  {
   "cell_type": "markdown",
   "metadata": {},
   "source": [
    "### Correlation and Causation\n",
    "\n",
    "**Correlation**: a measure of the extend of interdependence between variables\n",
    "\n",
    "**Causation**: the relationship between cause and effect between two variables\n",
    "\n",
    "### Pearson Correlation\n",
    "Measures the linear dependence between two variables. The result coefficient is a value between `-1 and 1`, where\n",
    "- `1`: Perfect positive linear correlation\n",
    "- `0`: No linear correlation\n",
    "- `-1`: Perfect negative linear correlation\n",
    "\n",
    "Note: `Pearson` correlation is the default method in pandas for the `corr()` method"
   ]
  },
  {
   "cell_type": "code",
   "execution_count": null,
   "metadata": {},
   "outputs": [],
   "source": [
    "# Do a correlation between 'is_called' and 'children' features\n",
    "corr_matrix_two = final_df[['is_canceled', 'children']].corr()\n",
    "corr_matrix_two"
   ]
  },
  {
   "cell_type": "markdown",
   "metadata": {},
   "source": [
    "Sometimes we want to know the significance of the correlation estimate\n",
    "\n",
    "#### P-Value\n",
    "The probability value that the correlation between the variables is statistically significant.\n",
    "\n",
    "Normally we choose a significance level of `0.05`, which means we are `95%` confident.\n",
    "\n",
    "P-Values\n",
    "- $<$ 0.001: we say there is a `strong` evidence\n",
    "- $<$ 0.05: we say there is `moderate` evidence\n",
    "- $<$ 0.1: we say there is a `weak` evidence\n",
    "- $>$ 0.: we say there is `no` evidence"
   ]
  },
  {
   "cell_type": "code",
   "execution_count": 2,
   "metadata": {},
   "outputs": [],
   "source": [
    "# conda install scipy\n",
    "from scipy.stats import pearsonr, spearmanr\n",
    "\n",
    "correlation, p_value = pearsonr(final_df['is_canceled'], final_df['children'])\n",
    "print(f'Pearson Correlation:[{corr}]\\n P_value:[{p_value}]')"
   ]
  },
  {
   "cell_type": "code",
   "execution_count": null,
   "metadata": {},
   "outputs": [],
   "source": []
  }
 ],
 "metadata": {
  "kernelspec": {
   "display_name": "module4",
   "language": "python",
   "name": "python3"
  },
  "language_info": {
   "codemirror_mode": {
    "name": "ipython",
    "version": 3
   },
   "file_extension": ".py",
   "mimetype": "text/x-python",
   "name": "python",
   "nbconvert_exporter": "python",
   "pygments_lexer": "ipython3",
   "version": "3.12.5"
  }
 },
 "nbformat": 4,
 "nbformat_minor": 2
}
