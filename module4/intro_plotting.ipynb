{
 "cells": [
  {
   "cell_type": "markdown",
   "metadata": {},
   "source": [
    "## Introduction to Plotting\n",
    "\n",
    "### Python Packages for plotting\n",
    "- `matplotlib`: All plots in pandas are matplotlib objects\n",
    "- `seaborn`: Focused on statistical visualization\n",
    "- `bokeh`: To create interactive visualization for the internet\n",
    "- `Plotly`: Create interactive and embedded visualization"
   ]
  },
  {
   "cell_type": "markdown",
   "metadata": {},
   "source": [
    "### Matplotlib\n",
    "Main submodule is `pyplot` which will give you different function to work with different plot elements."
   ]
  },
  {
   "cell_type": "markdown",
   "metadata": {},
   "source": [
    "### Creating a plot\n",
    "- Import the necessary packages\n",
    "- Import or create the data\n",
    "- Call the appropriate plotting functions"
   ]
  },
  {
   "cell_type": "code",
   "execution_count": 1,
   "metadata": {},
   "outputs": [],
   "source": [
    "import pandas as pd\n",
    "import matplotlib.pyplot as plt\n",
    "\n",
    "# Display the plots inside the notebook\n",
    "%matplotlib inline"
   ]
  },
  {
   "cell_type": "code",
   "execution_count": null,
   "metadata": {},
   "outputs": [],
   "source": [
    "# Dummy data\n",
    "x = [1, 2, 3, 4, 5]\n",
    "y = [10, 20, 25, 30, 35]\n",
    "print(x)\n",
    "print(y)"
   ]
  },
  {
   "cell_type": "code",
   "execution_count": null,
   "metadata": {},
   "outputs": [],
   "source": [
    "# Default is plot\n",
    "plt.plot(x,y)\n",
    "#plt.show()"
   ]
  },
  {
   "cell_type": "markdown",
   "metadata": {},
   "source": [
    "## Common Plots\n",
    "- Line\n",
    "- Scatter\n",
    "- Bar\n",
    "- Histograms\n",
    "- Area"
   ]
  },
  {
   "cell_type": "code",
   "execution_count": null,
   "metadata": {},
   "outputs": [],
   "source": [
    "# Another Line plot\n",
    "y = [45, 49, 54, 38, 41]\n",
    "plt.plot(y)\n",
    "plt.show()"
   ]
  },
  {
   "cell_type": "markdown",
   "metadata": {},
   "source": [
    "### Test data\n",
    "Get the data from: `icarus.cs.weber.edu/~hvalle/cs4580/data/plottingDemo01.zip`"
   ]
  },
  {
   "cell_type": "code",
   "execution_count": null,
   "metadata": {},
   "outputs": [],
   "source": [
    "# Load the data\n",
    "homes_df = pd.read_csv('../data/homes.csv')\n",
    "homes_df.head()"
   ]
  },
  {
   "cell_type": "markdown",
   "metadata": {},
   "source": [
    "## Scatter Plots\n",
    "Useful for visualizing relationships between data points."
   ]
  },
  {
   "cell_type": "code",
   "execution_count": null,
   "metadata": {},
   "outputs": [],
   "source": [
    "# Sample plot\n",
    "homes_df.plot()\n",
    "#plt.show()"
   ]
  },
  {
   "cell_type": "code",
   "execution_count": null,
   "metadata": {},
   "outputs": [],
   "source": [
    "#Specify the x and the y axis labels\n",
    "homes_df.plot(x='List', y= 'Rooms')"
   ]
  },
  {
   "cell_type": "code",
   "execution_count": null,
   "metadata": {},
   "outputs": [],
   "source": [
    "# Add markers\n",
    "homes_df.plot(x='List', y= 'Rooms', marker='o', markerfacecolor='r')"
   ]
  },
  {
   "cell_type": "markdown",
   "metadata": {},
   "source": [
    "### Bar Plot\n",
    "Useful when you are showing or comparing segments of information or categorical data"
   ]
  },
  {
   "cell_type": "code",
   "execution_count": null,
   "metadata": {},
   "outputs": [],
   "source": [
    "# Load data\n",
    "cities_df = pd.read_csv('../data/cities.csv')\n",
    "cities_df.head()\n"
   ]
  },
  {
   "cell_type": "code",
   "execution_count": null,
   "metadata": {},
   "outputs": [],
   "source": [
    "# Filter records from Year = 2019\n",
    "cities_2019_df = cities_df[cities_df['Year']== 2019]\n",
    "cities_2019_df.head()"
   ]
  },
  {
   "cell_type": "code",
   "execution_count": null,
   "metadata": {},
   "outputs": [],
   "source": [
    "# Now plot a bar chart of the number of cities in each region\n",
    "cities_2019_df.plot(kind='bar', x='City', y='Population', title='Population of Cities in 2019', figsize=(10,6))"
   ]
  },
  {
   "cell_type": "code",
   "execution_count": null,
   "metadata": {},
   "outputs": [],
   "source": [
    "# You may want to plot data horizontally\n",
    "# Since we are only plotting one set of the values, we do not need the legend\n",
    "cities_2019_df.plot(kind='bar', x='City', y='Population', title='Population of Cities in 2019', legend=False, figsize=(10,6))"
   ]
  },
  {
   "cell_type": "markdown",
   "metadata": {},
   "source": [
    "\n",
    "### Scatter Plots\n",
    "When you are interested in the relationship between two variables, scatter plot is probably the best choice"
   ]
  },
  {
   "cell_type": "code",
   "execution_count": null,
   "metadata": {},
   "outputs": [],
   "source": [
    "# Load data\n",
    "houses_df = pd.read_csv('../data/homes.csv')\n",
    "houses_df.head()"
   ]
  },
  {
   "cell_type": "code",
   "execution_count": null,
   "metadata": {},
   "outputs": [],
   "source": [
    "# Plot the scatter plot\n",
    "houses_df.plot(kind='scatter', x='List', y='Rooms')"
   ]
  },
  {
   "cell_type": "code",
   "execution_count": null,
   "metadata": {},
   "outputs": [],
   "source": [
    "# Filter data directly\n",
    "houses_df[houses_df['Age'] < 50].plot(kind='scatter', x='Age', y='List')"
   ]
  },
  {
   "cell_type": "code",
   "execution_count": null,
   "metadata": {},
   "outputs": [],
   "source": [
    "# If you want to eliminate outliers, you can filter the data before plotting\n",
    "houses_plot_df = houses_df[houses_df['Age'] < 50]\n",
    "houses_plot_df = houses_plot_df[houses_plot_df['List'] < 350]\n",
    "# Now plot\n",
    "houses_plot_df.plot(kind='scatter', x='Age', y='List')"
   ]
  },
  {
   "cell_type": "markdown",
   "metadata": {},
   "source": [
    "### Histograms\n",
    "Use to represent frequency in data"
   ]
  },
  {
   "cell_type": "code",
   "execution_count": null,
   "metadata": {},
   "outputs": [],
   "source": [
    "houses_plot_df.head()"
   ]
  },
  {
   "cell_type": "code",
   "execution_count": null,
   "metadata": {},
   "outputs": [],
   "source": [
    "# If you want to know the distribution of acreage for the houses\n",
    "# sold in the filtered dataset, use a histogram\n",
    "houses_plot_df['Acres'].plot(kind='hsit', title='Acre distribution for homes < 50 and list < 350')"
   ]
  },
  {
   "cell_type": "markdown",
   "metadata": {},
   "source": [
    "### Area Plot\n",
    "Useful when you want to understand how values develop and composed over time"
   ]
  },
  {
   "cell_type": "code",
   "execution_count": null,
   "metadata": {},
   "outputs": [],
   "source": [
    "## Load data set\n",
    "enrollments_df = pd.read_csv('../data/enrollment.csv')\n",
    "enrollments_df.head()"
   ]
  },
  {
   "cell_type": "code",
   "execution_count": null,
   "metadata": {},
   "outputs": [],
   "source": [
    "# Create an area plot of the enrollments\n",
    "enrollments_df.plot(kind='area', x='Year')"
   ]
  },
  {
   "cell_type": "code",
   "execution_count": null,
   "metadata": {},
   "outputs": [],
   "source": [
    "# Data is not good because it is not organized by year\n",
    "# We want to see the total, and how it changes over time\n",
    "# Sort the data by year, then plot it using the pivot method in pandas\n",
    "pivot_df = enrollments_df.pivot(index='Year', columns='Class', values='Enrollment')\n",
    "pivot_df.head()"
   ]
  },
  {
   "cell_type": "code",
   "execution_count": null,
   "metadata": {},
   "outputs": [],
   "source": [
    "# Plot it\n",
    "pivot_df.plot(kind='area')"
   ]
  },
  {
   "cell_type": "code",
   "execution_count": 1,
   "metadata": {},
   "outputs": [],
   "source": [
    "# The data is stacked by default.\n",
    "# You can set this option to false, stacked=False\n",
    "pivot_df.plot(kind='area', stacked=False)"
   ]
  },
  {
   "cell_type": "code",
   "execution_count": null,
   "metadata": {},
   "outputs": [],
   "source": []
  }
 ],
 "metadata": {
  "kernelspec": {
   "display_name": "module4",
   "language": "python",
   "name": "python3"
  },
  "language_info": {
   "codemirror_mode": {
    "name": "ipython",
    "version": 3
   },
   "file_extension": ".py",
   "mimetype": "text/x-python",
   "name": "python",
   "nbconvert_exporter": "python",
   "pygments_lexer": "ipython3",
   "version": "3.12.5"
  }
 },
 "nbformat": 4,
 "nbformat_minor": 2
}
