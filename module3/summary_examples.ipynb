{
 "cells": [
  {
   "cell_type": "markdown",
   "metadata": {},
   "source": [
    "## Tasks\n",
    "\n",
    "## Load the wine dataset"
   ]
  },
  {
   "cell_type": "markdown",
   "metadata": {},
   "source": [
    "Calculate the `median` of the `points` column from the dataset"
   ]
  },
  {
   "cell_type": "code",
   "execution_count": null,
   "metadata": {},
   "outputs": [],
   "source": [
    "# TODO: Load dataset into DataFrame\n",
    "import pandas as pd\n",
    "\n",
    "reviews_df = pd.read_csv('../data/winemag-data-130k-v2.csv')\n",
    "\n",
    "# TODO: Save in a variable called median_points =\n",
    "median_points = reviews_df.points.median()\n",
    "\n",
    "# Display it\n",
    "median_points"
   ]
  },
  {
   "cell_type": "code",
   "execution_count": null,
   "metadata": {},
   "outputs": [],
   "source": [
    "# TODO: Find which countries are represented in the dataset\n",
    "# Store values in: countries =\n",
    "countries = reviews_df.country.unique()\n",
    "countries"
   ]
  },
  {
   "cell_type": "code",
   "execution_count": null,
   "metadata": {},
   "outputs": [],
   "source": [
    "# TODO: Find how often each country appears in the set\n",
    "# Store values in: reviews_per_country = \n",
    "reviews_per_country = reviews_df.value_counts()\n",
    "reviews_per_country\n",
    "\n",
    "# BITMEDI!!!"
   ]
  },
  {
   "cell_type": "code",
   "execution_count": null,
   "metadata": {},
   "outputs": [],
   "source": [
    "# TODO: Create Series called: centered_price\n",
    "# that contains the price column with the mean price subtracted\n",
    "centered_price = reviews_df.price - reviews_df.price.mean()\n",
    "centered_price"
   ]
  },
  {
   "cell_type": "code",
   "execution_count": 13,
   "metadata": {},
   "outputs": [
    {
     "data": {
      "text/plain": [
       "'Bandit NV Merlot (California)'"
      ]
     },
     "execution_count": 13,
     "metadata": {},
     "output_type": "execute_result"
    }
   ],
   "source": [
    "# TODO: Find the bargain wine.\n",
    "# Create a variable called: bargain_wine with the title of the highest point-per-price ratio\n",
    "bargain_wine = reviews_df.loc[(reviews_df.points/reviews_df.price).idxmax(),'title']\n",
    "bargain_wine"
   ]
  },
  {
   "cell_type": "code",
   "execution_count": 14,
   "metadata": {},
   "outputs": [
    {
     "data": {
      "text/plain": [
       "tropical    3607\n",
       "fruity      9090\n",
       "dtype: int64"
      ]
     },
     "execution_count": 14,
     "metadata": {},
     "output_type": "execute_result"
    }
   ],
   "source": [
    "# TODO: Create a Series called: descriptor_counts\n",
    "# Count how many times each of the words: 'fruity' and 'tropical' appear in the description column\n",
    "tropical = reviews_df.description.map(lambda desc: 'tropical' in desc).sum()\n",
    "fruity = reviews_df.description.map(lambda desc: 'fruity' in desc).sum()\n",
    "\n",
    "#Count them, and return them as pd.Series\n",
    "descriptor_counts = pd.Series([tropical, fruity], index=['tropical', 'fruity'])\n",
    "descriptor_counts"
   ]
  },
  {
   "cell_type": "code",
   "execution_count": 15,
   "metadata": {},
   "outputs": [
    {
     "data": {
      "text/plain": [
       "2    115125\n",
       "1     12430\n",
       "3      2416\n",
       "Name: count, dtype: int64"
      ]
     },
     "execution_count": 15,
     "metadata": {},
     "output_type": "execute_result"
    }
   ],
   "source": [
    "# TODO: Create a Series called: star_ratings\n",
    "# With the number of stars corresponding to each review in the set\n",
    "# Rating system ranges from 80-100 points\n",
    "# A score of 95 or higher = 3 stars\n",
    "# A score of at least 85 but less than 95 = 2 stars\n",
    "# Any other score is 1 star\n",
    "\n",
    "def stars(row):\n",
    "    if row.points >= 95:\n",
    "        return 3\n",
    "    elif row.points >= 85 and row.points < 95:\n",
    "        return 2\n",
    "    else:\n",
    "        return 1\n",
    "    \n",
    "star_ratings = reviews_df.apply(stars, axis='columns')\n",
    "\n",
    "# Get the value counts and sort\n",
    "star_ratings.value_counts()"
   ]
  }
 ],
 "metadata": {
  "kernelspec": {
   "display_name": "module3",
   "language": "python",
   "name": "python3"
  },
  "language_info": {
   "codemirror_mode": {
    "name": "ipython",
    "version": 3
   },
   "file_extension": ".py",
   "mimetype": "text/x-python",
   "name": "python",
   "nbconvert_exporter": "python",
   "pygments_lexer": "ipython3",
   "version": "3.11.9"
  }
 },
 "nbformat": 4,
 "nbformat_minor": 2
}
