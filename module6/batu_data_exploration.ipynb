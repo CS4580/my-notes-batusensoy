{
 "cells": [
  {
   "cell_type": "markdown",
   "metadata": {},
   "source": [
    "Batu\n",
    "Question: Is there a relationship between category and discounts?"
   ]
  },
  {
   "cell_type": "code",
   "execution_count": null,
   "metadata": {},
   "outputs": [],
   "source": [
    "import pandas as pd\n",
    "import numpy as np\n",
    "import matplotlib.pyplot as plt\n",
    "%matplotlib inline\n",
    "import seaborn as sns\n",
    "print('Set up complete')\n",
    "\n",
    "# Load data\n",
    "file_path = '../data/amazon.csv'\n",
    "amazon_df = pd.read_csv(file_path)\n",
    "\n",
    "# TOP record\n",
    "amazon_df.head()\n",
    "amazon_df.shape"
   ]
  },
  {
   "cell_type": "code",
   "execution_count": null,
   "metadata": {},
   "outputs": [],
   "source": [
    "def convert_percentage(value):\n",
    "    value = value.replace('%', '')\n",
    "    new_value = float(value)\n",
    "    new_value = new_value/100\n",
    "    return new_value\n",
    "\n",
    "def convert_standard_float(value):\n",
    "    value = value.replace('₹', '')\n",
    "    value = value.replace(',', '')\n",
    "    new_value = float(value)\n",
    "    return new_value\n",
    "\n",
    "def convert_standard_int(value):\n",
    "    value = value.replace('₹', '')\n",
    "    value = value.replace(',', '')\n",
    "    new_value = int(value)\n",
    "    return new_value\n",
    "\n",
    "working_df = amazon_df.copy()\n",
    "working_df.loc[working_df['rating']== '|'] = working_df['rating'].mode()[0]\n",
    "working_df['rating_count'] = working_df['rating_count'].fillna(working_df['rating_count'].mode()[0])\n",
    "working_df['discounted_price'] = working_df['discounted_price'].apply(convert_standard_float)\n",
    "working_df['actual_price'] = working_df['actual_price'].apply(convert_standard_float)\n",
    "working_df['discount_percentage'] = working_df['discount_percentage'].apply(convert_percentage)\n",
    "working_df['rating'] = working_df['rating'].apply(convert_standard_float)\n",
    "working_df['rating_count'] = working_df['rating_count'].apply(convert_standard_float)\n",
    "\n",
    "working_df.head()"
   ]
  },
  {
   "cell_type": "markdown",
   "metadata": {},
   "source": [
    "## Descriptive Statistics"
   ]
  },
  {
   "cell_type": "markdown",
   "metadata": {},
   "source": [
    "## Calculate Average Ratings and Discounts\n",
    "Calculate the average ratings and discounts for each category to determine which categories to keep."
   ]
  },
  {
   "cell_type": "code",
   "execution_count": null,
   "metadata": {},
   "outputs": [],
   "source": [
    "# Calculate average ratings and discounts for each category\n",
    "category_summary = working_df.groupby('category').agg({\n",
    "    'discount_percentage': 'mean',\n",
    "    'rating': 'mean',\n",
    "    'discounted_price': 'mean',\n",
    "    'actual_price': 'mean',\n",
    "    'rating_count': 'count'\n",
    "}).reset_index()\n",
    "\n",
    "# Rename columns for clarity\n",
    "category_summary.columns = ['category', 'avg_discount', 'avg_rating', 'avg_discounted_price', 'avg_actual_price', 'product_count']\n",
    "\n",
    "# Display the summary\n",
    "print(category_summary)"
   ]
  },
  {
   "cell_type": "markdown",
   "metadata": {},
   "source": [
    "## Filter Top Categories\n",
    "Filter out the top N categories based on average rating. For example, we might keep the top 10 categories."
   ]
  },
  {
   "cell_type": "code",
   "execution_count": null,
   "metadata": {},
   "outputs": [],
   "source": [
    "# Filter for top N categories by average rating\n",
    "top_n = 10  # Change this value to include more or fewer categories\n",
    "top_categories = category_summary.nlargest(top_n, 'avg_rating')\n",
    "\n",
    "# Display top categories\n",
    "print(top_categories)"
   ]
  },
  {
   "cell_type": "markdown",
   "metadata": {},
   "source": [
    "## Group Less Popular Categories\n",
    "Group less popular categories into an \"Other\" category for clearer visualizations."
   ]
  },
  {
   "cell_type": "code",
   "execution_count": null,
   "metadata": {},
   "outputs": [],
   "source": [
    "# Define a threshold for minimum product count to keep a category\n",
    "threshold = 50  # Categories with fewer than this count will be grouped as 'Other'\n",
    "popular_categories = category_summary[category_summary['product_count'] >= threshold]\n",
    "other_categories = category_summary[category_summary['product_count'] < threshold]\n",
    "\n",
    "# Create a new DataFrame with 'Other' category\n",
    "other_summary = other_categories[['avg_discount', 'avg_rating', 'avg_discounted_price', 'avg_actual_price']].mean().to_frame().T\n",
    "other_summary['category'] = 'Other'\n",
    "other_summary['product_count'] = other_categories['product_count'].sum()\n",
    "\n",
    "# Combine popular categories and the 'Other' category\n",
    "final_category_summary = pd.concat([popular_categories, other_summary], ignore_index=True)\n",
    "\n",
    "# Display the final summary\n",
    "print(final_category_summary)"
   ]
  },
  {
   "cell_type": "markdown",
   "metadata": {},
   "source": [
    "## Visualize the Results"
   ]
  },
  {
   "cell_type": "code",
   "execution_count": 51,
   "metadata": {},
   "outputs": [
    {
     "name": "stdout",
     "output_type": "stream",
     "text": [
      "Category with the Highest Average Discount:\n",
      "category        Electronics|WearableTechnology|SmartWatches\n",
      "avg_discount                                       0.698158\n",
      "Name: 4, dtype: object\n",
      "Category with the Lowest Average Discount:\n",
      "category        Electronics|Mobiles&Accessories|Smartphones&Ba...\n",
      "avg_discount                                             0.232941\n",
      "Name: 3, dtype: object\n"
     ]
    }
   ],
   "source": [
    "# Find the category with the highest average discount\n",
    "highest_discount_category = final_category_summary.loc[final_category_summary['avg_discount'].idxmax()]\n",
    "\n",
    "# Display the result\n",
    "print(\"Category with the Highest Average Discount:\")\n",
    "print(highest_discount_category[['category', 'avg_discount']])\n",
    "\n",
    "# Find the category with the lowest average discount\n",
    "lowest_discount_category = final_category_summary.loc[final_category_summary['avg_discount'].idxmin()]\n",
    "\n",
    "# Display the result\n",
    "print(\"Category with the Lowest Average Discount:\")\n",
    "print(lowest_discount_category[['category', 'avg_discount']])"
   ]
  },
  {
   "cell_type": "code",
   "execution_count": null,
   "metadata": {},
   "outputs": [],
   "source": [
    "import matplotlib.pyplot as plt\n",
    "import seaborn as sns\n",
    "\n",
    "# Set up for visualization\n",
    "%matplotlib inline\n",
    "\n",
    "# Visualization of average discounts by category\n",
    "plt.figure(figsize=(12, 6))\n",
    "sns.barplot(data=final_category_summary, x='avg_discount', y='category', palette='viridis')\n",
    "plt.title('Average Discount Percentage by Product Category')\n",
    "plt.xlabel('Average Discount Percentage')\n",
    "plt.ylabel('Product Category')\n",
    "plt.xticks(rotation=45)  # Rotate x-axis labels for better readability\n",
    "plt.tight_layout()  # Adjust layout for better fit\n",
    "plt.show()\n",
    "\n",
    "# Correlation Analysis\n",
    "# Encode the category as a numerical variable\n",
    "final_category_summary['category_code'] = pd.factorize(final_category_summary['category'])[0]\n",
    "\n",
    "# Calculate the correlation matrix focusing on category code and average discount\n",
    "correlation_matrix = final_category_summary[['category_code', 'avg_discount']].corr()\n",
    "\n",
    "# Display the correlation matrix\n",
    "print(\"Correlation Matrix between Category and Discounts:\")\n",
    "print(correlation_matrix)\n",
    "\n",
    "\n",
    "\n"
   ]
  },
  {
   "cell_type": "markdown",
   "metadata": {},
   "source": [
    "## Correlation Coefficients\n",
    "category_code to avg_discount:\n",
    "Value: -0.194391\n",
    "- Interpretation: This value indicates a slight negative correlation between the encoded category code and average discount. A negative correlation suggests that, as the category code increases (representing different categories), the average discount tends to decrease slightly.\n",
    "\n",
    "- Strength of Correlation: The correlation coefficient ranges from -1 to 1. In this case, -0.194391 is relatively close to 0, indicating a weak correlation. This means that while there is some relationship, it is not strong enough to imply a significant impact of category on discounts.\n",
    "\n",
    "Summary\n",
    "Overall, the outcome indicates that while there is a slight negative correlation between category and discounts, it is weak and suggests that other factors may also play significant roles in determining average discounts across different categories. Further analysis might be needed to explore these relationships in more depth or to investigate other influencing factors.\n",
    "\n"
   ]
  },
  {
   "cell_type": "markdown",
   "metadata": {},
   "source": [
    "## Analysis\n",
    "The analysis reveals significant disparities in average discounts among different product categories. The category with the highest average discount is Electronics|WearableTechnology|SmartWatches, boasting an impressive average discount of approximately 69.82%. This suggests that products within this category are often heavily discounted, potentially to stimulate sales in a competitive market. In contrast, the category with the lowest average discount is Electronics|Mobiles&Accessories|Smartphones, with an average discount of only about 23.29%. This smaller discount may indicate a more stable pricing strategy, possibly reflecting higher demand or a premium pricing model for smartphones.\n",
    "\n",
    "The observed slight negative correlation coefficient of -0.194391 between category and average discount suggests that as the category code increases, representing a different grouping of products, the average discount tends to decrease slightly. However, this correlation is weak, indicating that the relationship between category and discounts is not robust and implies that other factors, such as market trends, consumer preferences, or promotional strategies, could significantly influence discount rates across categories. Further analysis may be warranted to understand these dynamics better and identify other variables affecting discount strategies.\n",
    "\n",
    "\n",
    "\n"
   ]
  }
 ],
 "metadata": {
  "kernelspec": {
   "display_name": "module6",
   "language": "python",
   "name": "python3"
  },
  "language_info": {
   "codemirror_mode": {
    "name": "ipython",
    "version": 3
   },
   "file_extension": ".py",
   "mimetype": "text/x-python",
   "name": "python",
   "nbconvert_exporter": "python",
   "pygments_lexer": "ipython3",
   "version": "3.12.7"
  }
 },
 "nbformat": 4,
 "nbformat_minor": 2
}
