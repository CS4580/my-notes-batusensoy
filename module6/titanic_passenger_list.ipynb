{
 "cells": [
  {
   "cell_type": "markdown",
   "metadata": {},
   "source": [
    "## Chi-Squared Analysis\n",
    "\n",
    "### First Question: Did more women and children survive compared to men?\n",
    "\n",
    "Dataset from Canvas (Titanic Passenger List.csv)"
   ]
  },
  {
   "cell_type": "code",
   "execution_count": null,
   "metadata": {},
   "outputs": [],
   "source": [
    "import pandas as pd\n",
    "\n",
    "passengers_df = pd.read_csv('../data/Titanic_Passengers.csv')\n",
    "\n",
    "passengers_df.head(20)"
   ]
  },
  {
   "cell_type": "code",
   "execution_count": null,
   "metadata": {},
   "outputs": [],
   "source": [
    "passengers_df.tail(20)"
   ]
  },
  {
   "cell_type": "markdown",
   "metadata": {},
   "source": [
    "- What kind of data is the `dependent` variable?\n",
    "- What kind of data is the `independent` variable?\n",
    "    - Nominal\n",
    "\n",
    "Two Types:\n",
    "    - `Ordinal` data. Data that can be ordered\n",
    "    - `Categorical/nominal`. Data that can be ordered"
   ]
  },
  {
   "cell_type": "code",
   "execution_count": null,
   "metadata": {},
   "outputs": [],
   "source": [
    "# Margins = True will show the summary\n",
    "contingency_table = pd.crosstab(passengers_df['Gender'], passengers_df['Lived_Died'], margins=True)\n",
    "print(contingency_table)"
   ]
  },
  {
   "cell_type": "code",
   "execution_count": null,
   "metadata": {},
   "outputs": [],
   "source": [
    "# Task: Create a stacked bar chart showing the number of passenger by gender that lived or died.\n",
    "\n",
    "import matplotlib.pyplot as plt\n",
    "\n",
    "#Exclude the last column and row (summary info)\n",
    "\n",
    "# For plotting do not include margins=True\n",
    "contingency_table = pd.crosstab(passengers_df['Gender'], passengers_df['Lived_Died'])\n",
    "# contingency_table.iloc[:-1,:-1].plot(kind='bar', stacked=True)\n",
    "contingency_table.plot(kind='bar', stacked=True)\n",
    "plt.ylabel('Count')"
   ]
  },
  {
   "cell_type": "code",
   "execution_count": null,
   "metadata": {},
   "outputs": [],
   "source": [
    "from scipy import stats # for chi_contingency\n",
    "\n",
    "print(stats.chi2_contingency(contingency_table)[0:3])\n",
    "\n",
    "# you get 3 values back\n",
    "# 1) Chi_Squared: The higher the chi_squared statistics, the less likelihood that the observed values were the result of pure chance \n",
    "# 2) Target P-Value\n",
    "# 3) Degrees of freedom: 1 degree of freedom. (rows -1) * (r columns -1) = 1"
   ]
  },
  {
   "cell_type": "markdown",
   "metadata": {},
   "source": [
    "## Chi-Square Example: Was Age Relevant?"
   ]
  },
  {
   "cell_type": "code",
   "execution_count": null,
   "metadata": {},
   "outputs": [],
   "source": [
    "# Check the age column. It is already fixed for the age at the time of the incident\n",
    "\n",
    "# What about null values?\n",
    "\n",
    "# Create the bins\n",
    "#passengers_df['age_bins'] = pd.cut(x=passengers_df['Age'], bins=[0, 10, 20, 30, 40, 50, 60, 70, 80])\n",
    "\n",
    "\n",
    "passengers_df['age_bins'] = pd.cut(x=passengers_df['Age'], bins=range(0,90,10))\n",
    "\n",
    "contingency_table = pd.crosstab(passengers_df['age_bins'], passengers_df['Lived_Died'])\n",
    "print(contingency_table)\n",
    "print(f'Chi2-Stats {stats.chi2_contingency(contingency_table)[0:3]}')\n",
    "\n",
    "#contingency_table.plot(kind='hist')\n"
   ]
  },
  {
   "cell_type": "code",
   "execution_count": null,
   "metadata": {},
   "outputs": [],
   "source": [
    "passengers_df.groupby(['age_bins'], ['Lived_Died']).size().unstack().plot(kind='bar', stacked=False)\n",
    "plt.ylabel('Count')\n",
    "plt.xlabel('Age Ranges')\n",
    "plt.title('Histogram of Age Ranges')"
   ]
  },
  {
   "cell_type": "code",
   "execution_count": null,
   "metadata": {},
   "outputs": [],
   "source": [
    "import pandas as pd\n",
    "import seaborn as sb\n",
    "import matplotlib.pyplot as plt\n",
    "%matplotlib inline\n",
    "from sklearn import preprocessing\n",
    "\n",
    "# Load data\n",
    "passengers_df = pd.read_csv('../data/Titanic_Passengers.csv')\n",
    "\n",
    "passengers_df\n",
    "# Create a heatmap\n",
    "passengers_df['age_bins'] = pd.cut(x=passengers_df['Age'], bins=[0, 10, 20, 30, 40, 50, 60, 70, 80])\n",
    "\n",
    "# Use a pivottable\n",
    "\n",
    "## EKSIK"
   ]
  },
  {
   "cell_type": "code",
   "execution_count": null,
   "metadata": {},
   "outputs": [],
   "source": [
    "# Drop columns that are not needed\n",
    "passengers_df.drop(['Name', 'Born', 'Died', 'Fare', 'Fare_decimal', 'Passenger_class'], axis=1, inplace=True)\n",
    "passengers_df.dropna(inplace=True) # drop null values\n",
    "\n",
    "#Encode the categorical data\n",
    "le = preprocessing.LabelEncoder()\n",
    "passengers_df['Lived_Died_int'] =le.fit_transform(passengers_df['Lived_Died'])\n",
    "passengers_df['Age_Groups'] = pd.cut(x=passengers_df['Age'], bins=range(0,90,10)) # create bins\n",
    "pivot_table = pd.pivot_table(passengers_df, values='Lived_Died_int', index=['Gender'], columns=['Age_Groups']) # Use a pivottable\n",
    "pivot_table.applymap(lambda)\n",
    "\n",
    "##EKSIK"
   ]
  },
  {
   "cell_type": "markdown",
   "metadata": {},
   "source": [
    "## Task: Did the Titanic Passenger Class Affected Survivorship\n",
    "In this case, the data is `ordinal` because we can order the categories from first to third"
   ]
  },
  {
   "cell_type": "code",
   "execution_count": null,
   "metadata": {},
   "outputs": [],
   "source": [
    "import pandas as pd\n",
    "import seaborn as sb\n",
    "import matplotlib.pyplot as plt\n",
    "%matplotlib inline\n",
    "from sklearn import preprocessing\n",
    "from scipy import stats\n",
    "\n",
    "# Load data\n",
    "passengers_df = pd.read_csv('../data/Titanic_Passengers.csv')\n",
    "\n",
    "passengers_df.head()"
   ]
  },
  {
   "cell_type": "code",
   "execution_count": null,
   "metadata": {},
   "outputs": [],
   "source": [
    "# Create a contingency table\n",
    "contingency_table = pd.crosstab(passengers_df['Passenger_Class'], passengers_df['Lived_Died'], margins=True)\n",
    "contingency_table"
   ]
  },
  {
   "cell_type": "code",
   "execution_count": null,
   "metadata": {},
   "outputs": [],
   "source": [
    "# Create a Bar Plot with the data stacked\n",
    "contingency_table = pd.crosstab(passengers_df['Lived_Died'],passengers_df['Passengers_Class'], margins=False)\n",
    "contingency_table.plot(kind='bar', stacked=True)"
   ]
  },
  {
   "cell_type": "code",
   "execution_count": null,
   "metadata": {},
   "outputs": [],
   "source": [
    "# Run a chi2_contingency on the table\n",
    "contingency_table = pd.crosstab(passengers_df['Passenger_Class'], passengers_df['Lived_Died'], margins=False)\n",
    "stats.chi2_contingency(contingency_table)[0:3]\n",
    "\n"
   ]
  },
  {
   "cell_type": "markdown",
   "metadata": {},
   "source": [
    "Which passenger class is responsible for the significant difference in survival rate?\n",
    "- Chi-square test offers that at least `one` of the passenger class is different from what we would expect if the variables were independent\n",
    "- Since this is our first test, it is considered a `Priori Test`\n",
    "- To continue our analysis, we will run another test, a `Post Hoc` test"
   ]
  },
  {
   "cell_type": "markdown",
   "metadata": {},
   "source": [
    "\n",
    "### Post-Hoc Test (Fisher's Exact Test)\n",
    "- Compared every passenger class to every other class to see if there is a statistical significance between the two.\n",
    "- We could apply a `Chi-Square` test for each of the three separate comparison, but our sample data is too small.\n",
    "- In this case, `Fisher's Exact` test is a better option."
   ]
  },
  {
   "cell_type": "code",
   "execution_count": null,
   "metadata": {},
   "outputs": [],
   "source": [
    "import pandas as pd\n",
    "import seaborn as sb\n",
    "import matplotlib.pyplot as plt\n",
    "%matplotlib inline\n",
    "from sklearn import preprocessing\n",
    "from scipy import stats\n",
    "\n",
    "# Load data\n",
    "passengers_df = pd.read_csv('../data/Titanic_Passengers.csv')\n",
    "contingency_table = pd.crosstab(passengers_df['Passengers_Class'], passengers_df['Lived_Died'],margins=False)\n",
    "contingency_table"
   ]
  },
  {
   "cell_type": "code",
   "execution_count": null,
   "metadata": {},
   "outputs": [],
   "source": [
    "first_class = contingency_table.iloc[0]. values # extract row values\n",
    "second_class = contingency_table.iloc[1]. values # extract row values\n",
    "third_class = contingency_table.iloc[2]. values # extract row values\n",
    "# Create a Fisher's Exact test to determine if there is a relationship between passenger classes and survival\n",
    "oddsratio, pvalue = stats.fisher_exact([first_class], [second_class])\n",
    "print(f'Fishers Exact Test for First and Second class: {pvalue}')\n",
    "oddsratio, pvalue = stats.fisher_exact([first_class], [third_class])\n",
    "print(f'Fishers Exact Test for First and Third class: {pvalue}')\n",
    "oddsratio, pvalue = stats.fisher_exact([second_class], [third_class])\n",
    "print(f'Fishers Exact Test for Second and Third class: {pvalue}')"
   ]
  },
  {
   "cell_type": "markdown",
   "metadata": {},
   "source": [
    "Each of the Fisher's Test reveals statistical significance\n",
    "\n",
    "Another way to conceptualize the result is to look at the percentages:\n",
    "\n",
    "| Passenger Class | Died |\n",
    "|-----------------|------|\n",
    "| First Class     | 43%  |\n",
    "| Second Class    | 60%  |\n",
    "| Third Class     | 74%  |\n",
    "\n",
    "TODO: Create a heatmap of Passenger Class split in Age_Ranges by Gender and Survival rate"
   ]
  },
  {
   "cell_type": "code",
   "execution_count": null,
   "metadata": {},
   "outputs": [],
   "source": [
    "# Drop columns that are not needed\n",
    "passengers_df.drop(['Name', 'Born', 'Died', 'Fare', 'Fare_decimal', 'Passenger_class'], axis=1, inplace=True)\n",
    "passengers_df.dropna(inplace=True) # drop null values\n",
    "\n",
    "#Encode the categorical data\n",
    "le = preprocessing.LabelEncoder()\n",
    "passengers_df['Lived_Died_int'] =le.fit_transform(passengers_df['Lived_Died'])\n",
    "passengers_df['Age_Groups'] = pd.cut(x=passengers_df['Age'], bins=range(0,90,10)) # create bins\n",
    "pivot_table = pd.pivot_table(passengers_df, values='Lived_Died_int', index=['Gender'], columns=['Age_Groups']) # Use a pivottable\n",
    "pivot_table.applymap(lambda x: 1 - x) # invert values in heatmap\n",
    "\n",
    "# Create a heatmap\n",
    "plt.figure(figsize=(16,5))\n",
    "x_axis_labels = [\n",
    "\n",
    "]\n",
    "sns.heatmap(pivot_table, annot=True, yticklabels=['Female', 'Male'], xticklabels=)\n",
    "\n",
    "\n",
    "## EKSIK\n"
   ]
  },
  {
   "cell_type": "markdown",
   "metadata": {},
   "source": [
    "### T-Test: Fare and Gender\n",
    "\n",
    "While `Chi-Test` and `Fisher-Test` focus on `categorical` discrete dependent variable, the `T-Test` and `ANOVA` test, target `continuous` data\n",
    "\n",
    "#### How was fare (price of passenger) Affected by Gender and Passenger Class?\n",
    "- Did one gender pay more than the other?\n",
    "- Is there a difference in fare between passenger class?\n",
    "- Is there an interaction between gender and passenger class on the resulting fare?"
   ]
  },
  {
   "cell_type": "code",
   "execution_count": null,
   "metadata": {},
   "outputs": [],
   "source": [
    "import pandas as pd\n",
    "import seaborn as sb\n",
    "import matplotlib.pyplot as plt\n",
    "%matplotlib inline\n",
    "from sklearn import preprocessing\n",
    "from scipy import stats\n",
    "\n",
    "# Load data\n",
    "passengers_df = pd.read_csv('../data/Titanic_Passengers.csv')"
   ]
  },
  {
   "cell_type": "code",
   "execution_count": null,
   "metadata": {},
   "outputs": [],
   "source": [
    "# Visualize data using boxplot\n",
    "sns.boxplot(y = passengers_df['Fare decimal'], x=passengers_df['Gender'])\n",
    "plt.ylabel('Fare Amount in Pounds')\n",
    "\n",
    "# EKSIK\n"
   ]
  },
  {
   "cell_type": "code",
   "execution_count": null,
   "metadata": {},
   "outputs": [],
   "source": [
    "male = passengers_df[passengers_df['Gender'] == 'Male']\n",
    "print = (f'Male Summary {male['Fare_decimal'].describe()}')"
   ]
  },
  {
   "cell_type": "code",
   "execution_count": null,
   "metadata": {},
   "outputs": [],
   "source": [
    "female = passengers_df[passengers_df['Gender'] == 'Female']\n",
    "print = (f'Female Summary {female['Fare_decimal'].describe()}')"
   ]
  },
  {
   "cell_type": "code",
   "execution_count": null,
   "metadata": {},
   "outputs": [],
   "source": [
    "from scipy.stats import ttest_ind\n",
    "# Drop null values\n",
    "passengers_df.dropna(inplace=True)\n",
    "male = passengers_df[passengers_df['Gender'] == 'Male']\n",
    "female = passengers_df[passengers_df['Gender'] == 'Female']\n",
    "\n",
    "#Run test\n",
    "statistics, pvalue = ttest_ind(male['Fare_decimal'], female['Fare_decimal'])\n",
    "print(f'T-test for Fare Paid p_value {pvalue}')\n"
   ]
  }
 ],
 "metadata": {
  "kernelspec": {
   "display_name": "module6",
   "language": "python",
   "name": "python3"
  },
  "language_info": {
   "codemirror_mode": {
    "name": "ipython",
    "version": 3
   },
   "file_extension": ".py",
   "mimetype": "text/x-python",
   "name": "python",
   "nbconvert_exporter": "python",
   "pygments_lexer": "ipython3",
   "version": "3.12.7"
  }
 },
 "nbformat": 4,
 "nbformat_minor": 2
}
