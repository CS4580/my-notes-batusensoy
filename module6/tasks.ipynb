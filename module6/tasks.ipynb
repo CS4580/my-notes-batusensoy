{
 "cells": [
  {
   "cell_type": "markdown",
   "metadata": {},
   "source": [
    "## Task: Game Platform Preference\n",
    "\n",
    "You are interested in creating your own video game. Analyze a dataset from IGN which ranks the different platforms and game types."
   ]
  },
  {
   "cell_type": "code",
   "execution_count": null,
   "metadata": {},
   "outputs": [],
   "source": [
    "import pandas as pd\n",
    "import matplotlib.pypolt as plt\n",
    "%matplotlib inline\n",
    "import seaborn as sns\n",
    "print(f'Setup complete')"
   ]
  },
  {
   "cell_type": "markdown",
   "metadata": {},
   "source": [
    "### Load and Review Data\n",
    "For this analysis we will use the `data/ign_scores.csv`\n",
    "- Use the `Platform` column as index"
   ]
  },
  {
   "cell_type": "code",
   "execution_count": null,
   "metadata": {},
   "outputs": [],
   "source": [
    "file_path = '../data/ign_scores.csv'\n",
    "ign_df = pd.read_csv(file_path, index_col='Platform')\n",
    "\n",
    "# Print head\n",
    "ign_df.head()"
   ]
  },
  {
   "cell_type": "markdown",
   "metadata": {},
   "source": [
    "### Task: Which Platform is the Best?\n",
    "Create a `bar chart` that shows the average score for `racing` games, for each platform."
   ]
  },
  {
   "cell_type": "code",
   "execution_count": null,
   "metadata": {},
   "outputs": [],
   "source": [
    "plt.figure(figsize=(16,6))\n",
    "sns.barplot\n",
    "## EKSIK"
   ]
  },
  {
   "cell_type": "markdown",
   "metadata": {},
   "source": [
    "### Task: Which one is the Best one for Racing Games?\n",
    "If `Wii` platform is not the best, which platform is?"
   ]
  },
  {
   "cell_type": "code",
   "execution_count": null,
   "metadata": {},
   "outputs": [],
   "source": [
    "platform_high_score= ign_df['Racing'].idxmax()\n",
    "print(f'Platform with the highest avg score for racing games is {platform_high_score}')"
   ]
  },
  {
   "cell_type": "markdown",
   "metadata": {},
   "source": [
    "### Task: All Possible Combinations\n",
    "Create a Heatmap of the average scores by genre in each cell"
   ]
  },
  {
   "cell_type": "code",
   "execution_count": null,
   "metadata": {},
   "outputs": [],
   "source": [
    "plt.figure(figure(16,6))\n",
    "sns.heatmap(data=ign_df, annot=True)\n",
    "plt.xlabel('Genre')"
   ]
  },
  {
   "cell_type": "markdown",
   "metadata": {},
   "source": [
    "### Task: Which Combination is the Best?\n",
    "- Which combination of `genre` and `platform` receives the highest average ratings?\n",
    "- Which combination receives the `lowest` average rating?"
   ]
  },
  {
   "cell_type": "code",
   "execution_count": null,
   "metadata": {},
   "outputs": [],
   "source": [
    "# stack() method makes a Series with multi_level index\n",
    "highest_combination = ign_df.stack().idmax # get tuple with columns\n",
    "highest_combination_value = ign_df.stack().max() # get value\n",
    "lowest_combination = ign_df.stack().idxmin()\n",
    "lowest_combination_value = ign_df.stack().min()\n",
    "\n",
    "print(f'Highest combination is: {highest_combination} with a rating of {highest_combination_value}')\n",
    "print(f'Lowest combination is: {lowest_combination} with a rating of {lowest_combination_value}')"
   ]
  },
  {
   "cell_type": "markdown",
   "metadata": {},
   "source": [
    "## Task: Candy Preferences\n",
    "Analyze a candy survey dataset: `data/candy.csv` for favorite candies. \n",
    "- Use the id as a column index"
   ]
  },
  {
   "cell_type": "code",
   "execution_count": null,
   "metadata": {},
   "outputs": [],
   "source": [
    "# Setup and Load Data\n",
    "import pandas as pd\n",
    "import matplotlib.pypolt as plt\n",
    "%matplotlib inline\n",
    "import seaborn as sns\n",
    "print(f'Setup complete')\n",
    "\n",
    "file_path= '../data/candy.csv'\n",
    "candy_df = pd.read_csv(file_path, index_col='id')\n",
    "\n",
    "#  Top records\n",
    "candy_df.head()"
   ]
  },
  {
   "cell_type": "code",
   "execution_count": null,
   "metadata": {},
   "outputs": [],
   "source": [
    "# Get the size \n",
    "print(candy_df.shape)"
   ]
  },
  {
   "cell_type": "markdown",
   "metadata": {},
   "source": [
    "### Task: Popularity\n",
    "- Which candy, '3 Musketeers' or 'Almond Joy' was more popular?\n",
    "- Which one has more sugar?\n"
   ]
  },
  {
   "cell_type": "code",
   "execution_count": null,
   "metadata": {},
   "outputs": [],
   "source": []
  },
  {
   "cell_type": "markdown",
   "metadata": {},
   "source": [
    "Create a scatter plot that shows the correlation between `sugarpercent`(x-axis) and `winpercent`(y-axis)"
   ]
  },
  {
   "cell_type": "markdown",
   "metadata": {},
   "source": [
    "Does the plot show a **strong correlation** between the two variables?\n",
    "\n",
    "If so, are candies with more sugar relatively more or less popular with the survey data?"
   ]
  }
 ],
 "metadata": {
  "language_info": {
   "name": "python"
  }
 },
 "nbformat": 4,
 "nbformat_minor": 2
}
