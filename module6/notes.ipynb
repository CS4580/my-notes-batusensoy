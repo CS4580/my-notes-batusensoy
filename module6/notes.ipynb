{
 "cells": [
  {
   "cell_type": "markdown",
   "metadata": {},
   "source": [
    "## Module 6: Inferential Statistics and Visualization\n",
    "\n",
    "Data set: 'http://icarus.cs.weber.edu/~hvalle/cs4580/data/seaborData.zip'"
   ]
  },
  {
   "cell_type": "code",
   "execution_count": 2,
   "metadata": {},
   "outputs": [
    {
     "name": "stdout",
     "output_type": "stream",
     "text": [
      "Setup complete\n"
     ]
    }
   ],
   "source": [
    "import pandas as pd\n",
    "import matplotlib.pyplot as plt\n",
    "%matplotlib inline\n",
    "import seaborn as sns\n",
    "print(f'Setup complete')"
   ]
  },
  {
   "cell_type": "code",
   "execution_count": null,
   "metadata": {},
   "outputs": [],
   "source": [
    "# Load data set\n",
    "file_path= '../data/fifa.csv'\n",
    "fifa_df= pd.read_csv(file_path, index_col='Date', parse_dates=True)\n",
    "\n",
    "fifa_df.head()"
   ]
  },
  {
   "cell_type": "code",
   "execution_count": null,
   "metadata": {},
   "outputs": [],
   "source": [
    "# Plot the data\n",
    "\n",
    "# Set the figure size\n",
    "plt.figure(figsize=(16,6))\n",
    "\n",
    "# Line chart showing how FIFA ranks evolved over time\n",
    "sns.lineplot(data=fifa_df)\n",
    "plt.show"
   ]
  },
  {
   "cell_type": "markdown",
   "metadata": {},
   "source": [
    "## Load a Spotify top 5 songs dataset\n",
    "\n",
    "Tracks globally the daily streams on the music service Spotify ot the top five songs"
   ]
  },
  {
   "cell_type": "code",
   "execution_count": null,
   "metadata": {},
   "outputs": [],
   "source": [
    "# Load data\n",
    "data_path= '../data/spotify.csv'\n",
    "spotify_df= pd.read_csv(data_path, index_col='Date', parse_dates=True)\n",
    "\n",
    "spotify_df.tail()"
   ]
  },
  {
   "cell_type": "code",
   "execution_count": null,
   "metadata": {},
   "outputs": [],
   "source": [
    "# Use a lineplot to visualize\n",
    "sns.lineplot(data=spotify_df)"
   ]
  },
  {
   "cell_type": "code",
   "execution_count": null,
   "metadata": {},
   "outputs": [],
   "source": [
    "# set the figure size\n",
    "plt.figure(figsize=(16,6))\n",
    "\n",
    "# set the title\n",
    "plt.title('Daily Global Stream of Popular Songs in 2017-2018')\n",
    "\n",
    "sns.lineplot(data=spotify_df)"
   ]
  },
  {
   "cell_type": "code",
   "execution_count": null,
   "metadata": {},
   "outputs": [],
   "source": [
    "# Plot subsets of data\n",
    "list(spotify_df.columns)"
   ]
  },
  {
   "cell_type": "code",
   "execution_count": null,
   "metadata": {},
   "outputs": [],
   "source": [
    "# Plot only two songs\n",
    "plt.figure(figsize=(16,6))\n",
    "plt.title('Daily Global Streams of Popular Songs in 2017-2018')\n",
    "\n",
    "sns.lineplot(data=spotify_df['Shape of You'], label='Shape of You')\n",
    "sns.lineplot(data=spotify_df['Despacito'], label='Despacito')\n",
    "\n",
    "plt.xlabel('Date')"
   ]
  },
  {
   "cell_type": "markdown",
   "metadata": {},
   "source": [
    "### Task: Understand Museum Attendance\n",
    "\n"
   ]
  },
  {
   "cell_type": "code",
   "execution_count": null,
   "metadata": {},
   "outputs": [],
   "source": [
    "import pandas as pd\n",
    "import matplotlib.pyplot as plt\n",
    "%matplotlib inline\n",
    "import seaborn as sns\n",
    "print(f'Setup complete')"
   ]
  },
  {
   "cell_type": "code",
   "execution_count": null,
   "metadata": {},
   "outputs": [],
   "source": [
    "# Load data\n",
    "data_path = '../data/museum_visitors.csv'\n",
    "museum_df = pd.read_csv(data_path, index_col='Date', parse_dates=True)\n",
    "\n",
    "museum_df.head()"
   ]
  },
  {
   "cell_type": "markdown",
   "metadata": {},
   "source": [
    "The Firehouse Museum claims that they ran an event in 2014 that brought a big number of visitors, and that they should get extra budget to run a similar event this year.\n",
    "\n",
    "Task: Show the museum board how the event compared to regular traffic at each museum.\n",
    "- Create a `lineplot chart` that shows how the number of visitors change on each museum over time\n",
    "- Provide a title for the plot"
   ]
  },
  {
   "cell_type": "code",
   "execution_count": null,
   "metadata": {},
   "outputs": [],
   "source": [
    "plt.figure(figsize=(16,6))\n",
    "plt.title('Daily Visitors to Museums')\n",
    "## EKSIK"
   ]
  },
  {
   "cell_type": "markdown",
   "metadata": {},
   "source": [
    "### Assess Seasonality\n",
    "When meeting with the employees of the `Avila Adobe`, you hear that one major pain point is that the number of the visitors varies greatly with the season.\n",
    "\n",
    "Part A:\n",
    "- Create a `line chart` that shows how the number of visitors to the `Avile Adobe` has evolved over time\n",
    "- Replace `inf` with `nan`, and then fill them in with `0`"
   ]
  },
  {
   "cell_type": "code",
   "execution_count": null,
   "metadata": {},
   "outputs": [],
   "source": [
    "import numpy as np\n",
    "# Replace infinite values with NaN\n",
    "museum_df = museum_df.replace([np.inf, -np.inf], np.nan)\n",
    "# Now we can use the fillna() method to replace NaN with zeros\n",
    "museum_df = museum_df.fillna(0)"
   ]
  },
  {
   "cell_type": "code",
   "execution_count": null,
   "metadata": {},
   "outputs": [],
   "source": [
    "# Plot the data\n",
    "plt.figure(figsize=(16,6))\n",
    "sns.lineplot(data=museum_df['Avila Adobe'], label='Avila Adobe')\n",
    "plt.title()\n",
    "\n",
    "#EKSIKK"
   ]
  },
  {
   "cell_type": "markdown",
   "metadata": {},
   "source": [
    "## Bar Plots\n",
    "Dataset: US Department of Transportation that tracks flight delays"
   ]
  },
  {
   "cell_type": "code",
   "execution_count": null,
   "metadata": {},
   "outputs": [],
   "source": [
    "# load dataset\n",
    "file_path= '../flight_delays.csv'\n",
    "flight_delay_df= pd.read_csv(file_path, index_col='Month')\n",
    "\n",
    "flight_delay_df.head()"
   ]
  },
  {
   "cell_type": "code",
   "execution_count": null,
   "metadata": {},
   "outputs": [],
   "source": [
    "# Use a bar plot\n",
    "plt.figure(figsize=(16,6))\n",
    "plt.title('Average Arrival Delay for Spirit Airlines, by Month')\n",
    "\n",
    "sns.barplot(x=flight_delay_df.index, y=flight_delay_df['NK'])\n",
    "plt.ylabel('Arrival Delay in Minutes')"
   ]
  },
  {
   "cell_type": "markdown",
   "metadata": {},
   "source": [
    "# Heat Maps"
   ]
  },
  {
   "cell_type": "code",
   "execution_count": null,
   "metadata": {},
   "outputs": [],
   "source": [
    "# Plot heatmap for all data\n",
    "plt.figure(figsize=(16,6))\n",
    "plt.title('Avg Arrival Delay for Each Airline, by Month')\n",
    "sns.heatmap(data=flight_delay_df, annot=True)\n",
    "plt.xlabel('Airline')\n"
   ]
  },
  {
   "cell_type": "markdown",
   "metadata": {},
   "source": [
    "## Scatter Plots\n",
    "\n",
    "### Load the Dataset\n",
    "We will use a (synthetic) dataset of medical insurance charges: `data/insurance.csv`"
   ]
  },
  {
   "cell_type": "code",
   "execution_count": null,
   "metadata": {},
   "outputs": [],
   "source": [
    "import pandas as pd\n",
    "import matplotlib.pyplot as plt\n",
    "%matplotlib inline\n",
    "import seaborn as sns\n",
    "print(f'Setup complete')\n",
    "\n",
    "# Load data\n",
    "file_path = '../data/insurance.csv'\n",
    "insurance_df = pd.read_csv(file_path)\n",
    "# Top records\n",
    "insurance_df.head()"
   ]
  },
  {
   "cell_type": "markdown",
   "metadata": {},
   "source": [
    "Create a `scatter plot`. In seaborn use `sns.scatterplot` command\n",
    "- x-axis use `bmi`\n",
    "- y-axis use `charges`"
   ]
  },
  {
   "cell_type": "code",
   "execution_count": null,
   "metadata": {},
   "outputs": [],
   "source": [
    "sns.scatterplot(x=insurance_df['bmi'], y=insurance_df['charges'])"
   ]
  },
  {
   "cell_type": "markdown",
   "metadata": {},
   "source": [
    "The plot suggests that we have a `positive correlation` between BMI and charges.\n",
    "- Higher BMI tends to pay more\n",
    "\n",
    "To double check the strength of this relationship, add a `regression line` that best fits the data"
   ]
  },
  {
   "cell_type": "code",
   "execution_count": null,
   "metadata": {},
   "outputs": [],
   "source": [
    "sns.regplot(x=insurance_df['bmi'], y=insurance_df['charges'])"
   ]
  },
  {
   "cell_type": "markdown",
   "metadata": {},
   "source": [
    "### Color-coded Scatter Plots\n",
    "They are good when you need to display the correlation between not two but more variables.\n",
    "\n",
    "We want to understand how `smoker` are affects the relationship between `BMI` and `charges`."
   ]
  },
  {
   "cell_type": "code",
   "execution_count": null,
   "metadata": {},
   "outputs": [],
   "source": [
    "# Scatter plot of BMI vs Charges AND Smoker vs Charges\n",
    "# x = bmi, y = charges, hue= smoker\n",
    "sns.scatterplot(x=insurance_df['bmi'], y=insurance_df['charges'], hue=insurance_df['smoker'])"
   ]
  },
  {
   "cell_type": "code",
   "execution_count": null,
   "metadata": {},
   "outputs": [],
   "source": [
    "# Add two regression lines\n",
    "# When using lmplot for more three or more, only use the column name\n",
    "sns.lmplot(data=insurance_df, x='bmi', y='charges', hue='smoker')"
   ]
  },
  {
   "cell_type": "markdown",
   "metadata": {},
   "source": [
    "Finally, we can adapt the design of a scatter plot to feature a `categorical variable` (like 'smoker') one of the main\n",
    "axis. Some people call this plot: **Categorical Scatter Plot**"
   ]
  },
  {
   "cell_type": "code",
   "execution_count": null,
   "metadata": {},
   "outputs": [],
   "source": [
    "sns.swarmplot(x=insurance_df['smoker'], y=insurance_df['charges'], hue=insurance_df['smoker'])"
   ]
  }
 ],
 "metadata": {
  "kernelspec": {
   "display_name": "module6",
   "language": "python",
   "name": "python3"
  },
  "language_info": {
   "codemirror_mode": {
    "name": "ipython",
    "version": 3
   },
   "file_extension": ".py",
   "mimetype": "text/x-python",
   "name": "python",
   "nbconvert_exporter": "python",
   "pygments_lexer": "ipython3",
   "version": "3.12.7"
  }
 },
 "nbformat": 4,
 "nbformat_minor": 2
}
